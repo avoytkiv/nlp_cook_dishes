{
 "cells": [
  {
   "cell_type": "markdown",
   "metadata": {},
   "source": [
    "## Step 1: Create Dummy Embeddings\n",
    "First, we need to set up some dummy embeddings. Let's assume each word is represented as a 5-dimensional vector."
   ]
  },
  {
   "cell_type": "code",
   "execution_count": 1,
   "metadata": {},
   "outputs": [],
   "source": [
    "import torch\n",
    "import torch.nn as nn\n",
    "import torch.nn.functional as F\n",
    "\n",
    "# Assume we have a vocabulary of 10 words, each represented by a 5-dimensional vector\n",
    "vocab_size = 10\n",
    "embedding_dim = 5\n",
    "\n",
    "# Create dummy embeddings for these words\n",
    "embeddings = nn.Embedding(num_embeddings=vocab_size, embedding_dim=embedding_dim)"
   ]
  },
  {
   "cell_type": "markdown",
   "metadata": {},
   "source": [
    "Exploring `nn.Embedding` in PyTorch."
   ]
  },
  {
   "cell_type": "code",
   "execution_count": 2,
   "metadata": {},
   "outputs": [
    {
     "data": {
      "text/plain": [
       "tensor([[-0.0403,  0.0077,  1.7520, -0.3653,  1.2519],\n",
       "        [-0.5223,  0.2101, -1.4149,  1.2403, -0.8029]],\n",
       "       grad_fn=<EmbeddingBackward0>)"
      ]
     },
     "execution_count": 2,
     "metadata": {},
     "output_type": "execute_result"
    },
    {
     "ename": "",
     "evalue": "",
     "output_type": "error",
     "traceback": [
      "\u001b[1;31mThe Kernel crashed while executing code in the the current cell or a previous cell. Please review the code in the cell(s) to identify a possible cause of the failure. Click <a href='https://aka.ms/vscodeJupyterKernelCrash'>here</a> for more info. View Jupyter <a href='command:jupyter.viewOutput'>log</a> for further details."
     ]
    }
   ],
   "source": [
    "indices = torch.tensor([2, 4])\n",
    "embeddings(indices)"
   ]
  },
  {
   "cell_type": "code",
   "execution_count": 3,
   "metadata": {},
   "outputs": [],
   "source": [
    "class SimpleLM(nn.Module):\n",
    "    def __init__(self, embedding_dim, hidden_dim, vocab_size):\n",
    "        super(SimpleLM, self).__init__()\n",
    "        self.fc = nn.Linear(embedding_dim, hidden_dim)\n",
    "        self.out = nn.Linear(hidden_dim, vocab_size)\n",
    "\n",
    "    def forward(self, x):\n",
    "        x = F.relu(self.fc(x))\n",
    "        x = self.out(x)\n",
    "        return x\n",
    "\n",
    "hidden_dim = 10  # Size of hidden layer\n",
    "model = SimpleLM(embedding_dim, hidden_dim, vocab_size)\n"
   ]
  },
  {
   "cell_type": "markdown",
   "metadata": {},
   "source": [
    "## Step 3: Generate a Context Vector\n",
    "Let's simulate a context of 3 words. We'll randomly pick these words for our demonstration."
   ]
  },
  {
   "cell_type": "code",
   "execution_count": 4,
   "metadata": {},
   "outputs": [],
   "source": [
    "context_size = 3  # Number of words in context\n",
    "dummy_context = torch.randint(0, vocab_size, (context_size,))\n",
    "\n",
    "# Get embeddings for the context words\n",
    "context_embeddings = embeddings(dummy_context)\n"
   ]
  },
  {
   "cell_type": "markdown",
   "metadata": {},
   "source": [
    "## Step 4: Predict the Next Token\n",
    "Finally, we'll process these embeddings through the network and predict the next token."
   ]
  },
  {
   "cell_type": "code",
   "execution_count": 5,
   "metadata": {},
   "outputs": [
    {
     "name": "stdout",
     "output_type": "stream",
     "text": [
      "Predicted probabilities for the next word: tensor([[0.0979, 0.1299, 0.0722, 0.0899, 0.1158, 0.1111, 0.1016, 0.1065, 0.0753,\n",
      "         0.0998]], grad_fn=<SoftmaxBackward0>)\n"
     ]
    }
   ],
   "source": [
    "# Average the embeddings to simulate a simple way of combining them\n",
    "avg_embedding = context_embeddings.mean(dim=0)\n",
    "\n",
    "# Feed the averaged embedding into the network\n",
    "network_output = model(avg_embedding.unsqueeze(0))  # Unsqueeze to add batch dimension\n",
    "\n",
    "# Apply softmax to get probabilities\n",
    "probabilities = F.softmax(network_output, dim=1)\n",
    "\n",
    "# Just to see the output\n",
    "print(\"Predicted probabilities for the next word:\", probabilities)\n"
   ]
  },
  {
   "cell_type": "code",
   "execution_count": null,
   "metadata": {},
   "outputs": [],
   "source": [
    "2"
   ]
  },
  {
   "cell_type": "markdown",
   "metadata": {},
   "source": []
  }
 ],
 "metadata": {
  "kernelspec": {
   "display_name": "venv",
   "language": "python",
   "name": "python3"
  },
  "language_info": {
   "codemirror_mode": {
    "name": "ipython",
    "version": 3
   },
   "file_extension": ".py",
   "mimetype": "text/x-python",
   "name": "python",
   "nbconvert_exporter": "python",
   "pygments_lexer": "ipython3",
   "version": "3.11.6"
  }
 },
 "nbformat": 4,
 "nbformat_minor": 2
}
