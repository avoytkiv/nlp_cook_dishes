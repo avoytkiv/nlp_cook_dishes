{
 "cells": [
  {
   "cell_type": "markdown",
   "metadata": {},
   "source": [
    "We've checked out statistical approaches to language models in the last notebook. Now let's go find out what deep learning has to offer.\n",
    "\n",
    "This time we build a language model that's character-level, not word level. "
   ]
  },
  {
   "cell_type": "code",
   "execution_count": 1,
   "metadata": {},
   "outputs": [
    {
     "name": "stdout",
     "output_type": "stream",
     "text": [
      "/opt/conda/envs/pytorch/bin/python\n"
     ]
    }
   ],
   "source": [
    "!which python"
   ]
  },
  {
   "cell_type": "code",
   "execution_count": 2,
   "metadata": {},
   "outputs": [
    {
     "name": "stdout",
     "output_type": "stream",
     "text": [
      "/home/ubuntu/sky_workdir/notebooks\n"
     ]
    }
   ],
   "source": [
    "!pwd"
   ]
  },
  {
   "cell_type": "markdown",
   "metadata": {},
   "source": [
    "Working on character level means that we don't need to deal with large vocabulary or missing words. Heck, we can even keep uppercase words in text! The downside, however, is that all our sequences just got a lot longer.\n",
    "\n",
    "However, we still need special tokens:\n",
    "* Begin Of Sequence  (__BOS__) - this token is at the start of each sequence. We use it so that we always have non-empty input to our neural network. $P(x_t) = P(x_1 | BOS)$\n",
    "* End Of Sequence (__EOS__) - you guess it... this token is at the end of each sequence. The catch is that it should __not__ occur anywhere else except at the very end. If our model produces this token, the sequence is over."
   ]
  },
  {
   "cell_type": "code",
   "execution_count": 3,
   "metadata": {},
   "outputs": [],
   "source": [
    "import pandas as pd\n",
    "import numpy as np\n",
    "import ast\n",
    "\n",
    "\n",
    "def clean_steps(data):\n",
    "    data_list = ast.literal_eval(data)\n",
    "    return ', '.join(data_list)\n",
    "\n",
    "\n",
    "BOS, EOS = ' ', '\\n'\n",
    "data = pd.read_csv('RAW_recipes.csv')\n",
    "data = data[['name', 'steps', 'description', 'ingredients']]\n",
    "data = data[~data['steps'].str.contains('please ignore')]\n",
    "data = data[~data['steps'].str.contains('none')]\n",
    "data['steps'] = data['steps'].apply(clean_steps)\n",
    "data['ingredients'] = data['ingredients'].apply(clean_steps)\n",
    "\n",
    "lines = data.apply(lambda row: str(row['name']) + \n",
    "                   '; ' + \n",
    "                   str(row['steps']).replace(\"\\n\", ' ') + \n",
    "                   '; ' + \n",
    "                   str(row['description']) + \n",
    "                   '; ' + \n",
    "                   str(row['ingredients'])[:512], axis=1) \\\n",
    "            .apply(lambda line: BOS + line.replace(EOS, ' ') + EOS) \\\n",
    "            .tolist()"
   ]
  },
  {
   "cell_type": "markdown",
   "metadata": {},
   "source": [
    "Our next step is __building char-level vocabulary__. Put simply, you need to assemble a list of all unique tokens in the dataset."
   ]
  },
  {
   "cell_type": "code",
   "execution_count": 4,
   "metadata": {},
   "outputs": [
    {
     "name": "stdout",
     "output_type": "stream",
     "text": [
      "n_tokens =  142\n"
     ]
    }
   ],
   "source": [
    "# Get all unique characters from lines (including capital letters and symbols)\n",
    "tokens = set(''.join(lines))\n",
    "tokens = sorted(tokens)\n",
    "n_tokens = len(tokens)\n",
    "print ('n_tokens = ',n_tokens)"
   ]
  },
  {
   "cell_type": "markdown",
   "metadata": {},
   "source": [
    "We can now assign each character with its index in tokens list. This way we can encode a string into a torch-friendly integer vector."
   ]
  },
  {
   "cell_type": "code",
   "execution_count": 5,
   "metadata": {},
   "outputs": [],
   "source": [
    "# dictionary of character -> its identifier (index in tokens list)\n",
    "token_to_id = {token: idx for idx, token in enumerate(tokens)}"
   ]
  },
  {
   "cell_type": "markdown",
   "metadata": {},
   "source": [
    "Our final step is to assemble several strings in a integer matrix with shape `[batch_size, text_length]`. \n",
    "\n",
    "The only problem is that each sequence has a different length. We can work around that by padding short sequences with extra `\"EOS\"` tokens or cropping long sequences. Here's how it works:"
   ]
  },
  {
   "cell_type": "code",
   "execution_count": 6,
   "metadata": {},
   "outputs": [],
   "source": [
    "def to_matrix(lines, max_len=None, pad=token_to_id[EOS], dtype=np.int64):\n",
    "    \"\"\"Casts a list of lines into torch-digestable matrix\"\"\"\n",
    "    max_len = max_len or max(map(len, lines))\n",
    "    lines_ix = np.full([len(lines), max_len], pad, dtype=dtype)\n",
    "    for i in range(len(lines)):\n",
    "        line_ix = list(map(token_to_id.get, lines[i][:max_len]))\n",
    "        lines_ix[i, :len(line_ix)] = line_ix\n",
    "    return lines_ix"
   ]
  },
  {
   "cell_type": "code",
   "execution_count": 7,
   "metadata": {},
   "outputs": [
    {
     "name": "stdout",
     "output_type": "stream",
     "text": [
      "[[ 5 44 45 46  1  1  1  1  1  1  1  1  1  1  1]\n",
      " [ 5 44 45 44 46 44 45 44  1  1  1  1  1  1  1]\n",
      " [ 5 44 45 46 22 23 24 25 26 27 28 29 30 21  1]]\n"
     ]
    }
   ],
   "source": [
    "#Example: cast 4 random names to a single matrix, pad with zeros where needed.\n",
    "dummy_lines = [\n",
    "    ' abc\\n',\n",
    "    ' abacaba\\n',\n",
    "    ' abc1234567890\\n',\n",
    "]\n",
    "print(to_matrix(dummy_lines))"
   ]
  },
  {
   "cell_type": "markdown",
   "metadata": {},
   "source": [
    "### Neural Language Model \n",
    "\n",
    "Just like for N-gram LMs, we want to estimate probability of text as a joint probability of tokens (symbols this time).\n",
    "\n",
    "$$P(X) = \\prod_t P(x_t \\mid x_0, \\dots, x_{t-1}).$$ \n",
    "\n",
    "Instead of counting all possible statistics, we want to train a neural network with parameters $\\theta$ that estimates the conditional probabilities:\n",
    "\n",
    "$$ P(x_t \\mid x_0, \\dots, x_{t-1}) \\approx p(x_t \\mid x_0, \\dots, x_{t-1}, \\theta) $$\n",
    "\n",
    "\n",
    "But before we optimize, we need to define our neural network. Let's start with a fixed-window (aka convolutional) architecture:\n",
    "\n",
    "<img src='https://raw.githubusercontent.com/yandexdataschool/nlp_course/master/resources/fixed_window_lm.jpg' width=400px>\n"
   ]
  },
  {
   "cell_type": "markdown",
   "metadata": {},
   "source": [
    "We can think of neural language models as neural classifiers. They classify prefix of a text into |V| classes, where the classes are vocabulary tokens.\n",
    "\n",
    "Intuitively, neural Language Models do two things:\n",
    "\n",
    "- **process context → model-specific**  \n",
    "The main idea here is to get a vector representation for the previous context. Using this representation, a model predicts a probability distribution for the next token. This part could be different depending on model architecture (e.g., RNN, CNN, whatever you want), but the main point is the same - to encode context.  \n",
    "\n",
    "- **generate a probability distribution for the next token → model-agnostic**  \n",
    "Once a context has been encoded, usually the probability distribution is generated in the same way"
   ]
  },
  {
   "cell_type": "markdown",
   "metadata": {},
   "source": [
    "\n",
    "When designing a CNN language model, keep in mind the following things:\n",
    "\n",
    "- prevent information flow from future tokens  \n",
    "To predict a token, a left-to-right LM has to use only previous tokens - make sure your CNN does not see anything but them! For example, you can shift tokens to the right by using padding.  \n",
    "\n",
    "- do not remove positional information  \n",
    "Differently from text classification, positional information is very important for language models. Therefore, do not use pooling (or be very careful in how you do it).  \n",
    " \n",
    "- if you stack many layers, do not forget about residual connections  \n",
    "If you stack many layers, it may difficult to train a very deep network well. To avoid this, use residual connections  \n",
    "\n",
    "1. Initialize the embedding layer to transform token indices into embeddings.\n",
    "2. Add zero padding on the left to prevent the model from seeing future tokens.\n",
    "3. Implement the convolutional layers, ensuring they only consider the current and previous words.\n",
    "4. Include residual connections if using multiple layers.\n",
    "5. Add a final layer to transform the output to the desired size.\n",
    "6. Implement the forward pass, ensuring the input and output dimensions are compatible with embeddings and convolutions."
   ]
  },
  {
   "cell_type": "code",
   "execution_count": 8,
   "metadata": {},
   "outputs": [],
   "source": [
    "import torch\n",
    "import torch.nn as nn\n",
    "import torch.nn.functional as F"
   ]
  },
  {
   "cell_type": "code",
   "execution_count": 9,
   "metadata": {},
   "outputs": [
    {
     "name": "stdout",
     "output_type": "stream",
     "text": [
      "cuda\n"
     ]
    }
   ],
   "source": [
    "# device cuda if available else cpu\n",
    "device = torch.device('cuda') if torch.cuda.is_available() else torch.device('cpu')\n",
    "print(device)"
   ]
  },
  {
   "cell_type": "code",
   "execution_count": 23,
   "metadata": {},
   "outputs": [],
   "source": [
    "class FixedWindowLanguageModel(nn.Module):\n",
    "    def __init__(self, n_tokens, emb_size=16, hid_size=64, filter_size=5, stride_size=1):\n",
    "        super().__init__()\n",
    "\n",
    "        # Embedding layer\n",
    "        self.emb = nn.Embedding(n_tokens, emb_size)\n",
    "\n",
    "        # Left padding to prevent future information leakage\n",
    "        total_padding_needed = sum([(filter_size - 1) for _ in range(3)])\n",
    "        self.left_padding = total_padding_needed\n",
    "\n",
    "\n",
    "        # Convolutional layers with padding to maintain sequence length\n",
    "        self.convs = nn.Sequential(\n",
    "            nn.ZeroPad2d((self.left_padding, 0, 0, 0)),\n",
    "            nn.Conv1d(emb_size, hid_size, kernel_size=filter_size, stride=stride_size, padding=0),\n",
    "            nn.ReLU(),\n",
    "            nn.Conv1d(hid_size, hid_size, kernel_size=filter_size, stride=stride_size, padding=0),\n",
    "            nn.ReLU(),\n",
    "            nn.Conv1d(hid_size, n_tokens, kernel_size=filter_size, stride=stride_size, padding=0)\n",
    "        )\n",
    "\n",
    "    def forward(self, input_ix):\n",
    "        # Embedding input tokens\n",
    "        emb = self.emb(input_ix).permute(0, 2, 1)  # [batch_size, emb_size, sequence_length]\n",
    "\n",
    "        # Applying convolutions\n",
    "        conv_out = self.convs(emb)\n",
    "\n",
    "        # Adjusting shape for output\n",
    "        output = conv_out.permute(0, 2, 1)  # [batch_size, sequence_length, n_tokens]\n",
    "        return output\n",
    "    \n",
    "    def get_possible_next_tokens(self, prefix=BOS, temperature=1.0, max_len=100):\n",
    "        \"\"\" :returns: probabilities of next token, dict {token : prob} for all tokens \"\"\"\n",
    "        prefix_ix = torch.as_tensor(to_matrix([prefix]), dtype=torch.int64).to(device)\n",
    "        with torch.no_grad():\n",
    "            probs = torch.softmax(self(prefix_ix)[0, -1], dim=-1).cpu().numpy()  # shape: [n_tokens]\n",
    "        return dict(zip(tokens, probs))\n"
   ]
  },
  {
   "cell_type": "code",
   "execution_count": 12,
   "metadata": {},
   "outputs": [
    {
     "name": "stdout",
     "output_type": "stream",
     "text": [
      "Weights: ('emb.weight', 'convs.1.weight', 'convs.1.bias', 'convs.3.weight', 'convs.3.bias', 'convs.5.weight', 'convs.5.bias')\n"
     ]
    }
   ],
   "source": [
    "dummy_model = FixedWindowLanguageModel(n_tokens=len(tokens))\n",
    "\n",
    "dummy_input_ix = torch.as_tensor(to_matrix(dummy_lines))\n",
    "dummy_logits = dummy_model(dummy_input_ix)\n",
    "\n",
    "print('Weights:', tuple(name for name, w in dummy_model.named_parameters()))"
   ]
  },
  {
   "cell_type": "code",
   "execution_count": 13,
   "metadata": {},
   "outputs": [
    {
     "data": {
      "text/plain": [
       "torch.Size([3, 15, 142])"
      ]
     },
     "execution_count": 13,
     "metadata": {},
     "output_type": "execute_result"
    }
   ],
   "source": [
    "dummy_logits.shape"
   ]
  },
  {
   "cell_type": "code",
   "execution_count": 14,
   "metadata": {},
   "outputs": [],
   "source": [
    "assert isinstance(dummy_logits, torch.Tensor)\n",
    "assert dummy_logits.shape == (len(dummy_lines), max(map(len, dummy_lines)), n_tokens)\n",
    "assert np.all(np.isfinite(dummy_logits.data.cpu().numpy())), \"inf/nan encountered\"\n",
    "assert not np.allclose(dummy_logits.data.cpu().numpy().sum(-1), 1), \"please predict linear outputs\""
   ]
  },
  {
   "cell_type": "code",
   "execution_count": 15,
   "metadata": {},
   "outputs": [],
   "source": [
    "# test for lookahead\n",
    "dummy_input_ix_2 = torch.as_tensor(to_matrix([line[:3] + 'e' * (len(line) - 3) for line in dummy_lines]))\n",
    "dummy_logits_2 = dummy_model(dummy_input_ix_2)\n",
    "\n",
    "assert torch.allclose(dummy_logits[:, :3], dummy_logits_2[:, :3]), \"your model's predictions depend on FUTURE tokens. \" \\\n",
    "    \" Make sure you don't allow any layers to look ahead of current token.\" \\\n",
    "    \" You can also get this error if your model is not deterministic (e.g. dropout). Disable it for this test.\""
   ]
  },
  {
   "cell_type": "markdown",
   "metadata": {},
   "source": [
    "The output from above. Let's break down what each part of this output represents:\n",
    "\n",
    "1. **Embedding Layer**:\n",
    "   - `'emb.weight'`: This is the weight matrix of the embedding layer. Each row corresponds to the embedding of a token in your vocabulary.\n",
    "\n",
    "2. **Convolutional Layers**:\n",
    "   - `'convs.X.1.weight'` and `'convs.X.1.bias'`: These are the weights and biases for the convolutional layers. `X` varies from 0 to 2, representing each convolutional layer in your `self.convs` ModuleList.\n",
    "   - `'convs.X.3.weight'` and `'convs.X.3.bias'`: These represent the weights and biases for the batch normalization layers following each convolutional layer.\n",
    "\n",
    "3. **Residual Layers**:\n",
    "   - `'residual_layers.X.weight'` and `'residual_layers.X.bias'`: These are the weights and biases for the linear layers in your `self.residual_layers` ModuleList, used to match the dimensions for the residual connections.\n",
    "\n",
    "4. **Final Linear Layer**:\n",
    "   - `'final_layer.weight'` and `'final_layer.bias'`: These are the weights and biases of the final linear layer that outputs the logits for each token in the vocabulary.\n",
    "\n",
    "This output shows that all the expected parameters for model's layers are correctly instantiated and registered within the model. Each layer's weights and biases are part of the model's parameters, which will be learned during training. "
   ]
  },
  {
   "cell_type": "markdown",
   "metadata": {},
   "source": [
    "We can now tune our network's parameters to minimize categorical crossentropy over training dataset $D$:\n",
    "\n",
    "$$ L = {\\frac1{|D|}} \\sum_{X \\in D} \\sum_{x_i \\in X} - \\log p(x_t \\mid x_1, \\dots, x_{t-1}, \\theta) $$\n",
    "\n",
    "As usual with with neural nets, this optimization is performed via stochastic gradient descent with backprop.  One can also note that minimizing crossentropy is equivalent to minimizing model __perplexity__, KL-divergence or maximizng log-likelihood."
   ]
  },
  {
   "cell_type": "code",
   "execution_count": 18,
   "metadata": {},
   "outputs": [],
   "source": [
    "def compute_mask(input_ix, eos_ix=token_to_id[EOS]):\n",
    "    \"\"\" compute a boolean mask that equals \"1\" until first EOS (including that EOS) \"\"\"\n",
    "    return F.pad(torch.cumsum(input_ix == eos_ix, dim=-1)[..., :-1] < 1, pad=(1, 0, 0, 0), value=True)\n",
    "\n",
    "print('matrix:\\n', dummy_input_ix.numpy())\n",
    "print('mask:', compute_mask(dummy_input_ix).to(torch.int32).cpu().numpy())\n",
    "print('lengths:', compute_mask(dummy_input_ix).sum(-1).cpu().numpy())"
   ]
  },
  {
   "cell_type": "code",
   "execution_count": 10,
   "metadata": {},
   "outputs": [],
   "source": [
    "def compute_loss(model, input_ix):\n",
    "    input_ix = torch.as_tensor(input_ix, dtype=torch.int64).to(device)\n",
    "\n",
    "    logits = model(input_ix[:, :-1])\n",
    "    reference_answers = input_ix[:, 1:]\n",
    "\n",
    "    # Compute the mask\n",
    "    mask = compute_mask(input_ix)\n",
    "\n",
    "    # Compute cross-entropy loss\n",
    "    loss = F.cross_entropy(logits.transpose(1, 2), reference_answers, reduction='none')\n",
    "\n",
    "    # Apply the mask - zero out losses where mask is 0\n",
    "    masked_loss = loss * mask[:, 1:].to(loss.dtype)\n",
    "\n",
    "    # Compute mean loss, but only over non-zero elements in the mask\n",
    "    loss = masked_loss.sum() / mask[:, 1:].sum()\n",
    "\n",
    "    return loss"
   ]
  },
  {
   "cell_type": "markdown",
   "metadata": {},
   "source": [
    "Note that the mask is shifted one position to the right compared to logits and reference_answers to align correctly (excluding the first token which has no previous token to predict from). The `F.cross_entropy` function expects logits of shape `[batch_size, num_classes, sequence_length]` and reference answers of shape `[batch_size, sequence_length]`, hence the `logits.transpose(1, 2)`.\n",
    "\n",
    "The loss is calculated for each token, then masked to exclude unwanted tokens (padding and subsequent `EOS` tokens), and finally, the mean loss is computed over all remaining (non-masked) tokens. This ensures that the loss is properly normalized only over the relevant tokens."
   ]
  },
  {
   "cell_type": "code",
   "execution_count": null,
   "metadata": {},
   "outputs": [],
   "source": [
    "loss_1 = compute_loss(dummy_model, to_matrix(dummy_lines, max_len=15))\n",
    "loss_2 = compute_loss(dummy_model, to_matrix(dummy_lines, max_len=16))\n",
    "assert (np.ndim(loss_1) == 0) and (0 < loss_1 < 100), \"loss must be a positive scalar\"\n",
    "assert torch.allclose(loss_1, loss_2), 'do not include  AFTER first EOS into loss. '\\\n",
    "    'Hint: use compute_mask. Beware +/-1 errors. And be careful when averaging!'"
   ]
  },
  {
   "cell_type": "markdown",
   "metadata": {},
   "source": [
    "### Evaluation\n",
    "\n",
    "I need two functions: one to compute test loss and another to generate samples. For your convenience, we implemented them both in your stead."
   ]
  },
  {
   "cell_type": "code",
   "execution_count": 11,
   "metadata": {},
   "outputs": [],
   "source": [
    "def score_lines(model, dev_lines, batch_size):\n",
    "    \"\"\" computes average loss over the entire dataset \"\"\"\n",
    "    dev_loss_num, dev_loss_len = 0., 0.\n",
    "    with torch.no_grad():\n",
    "        for i in range(0, len(dev_lines), batch_size):\n",
    "            batch_ix = to_matrix(dev_lines[i: i + batch_size])\n",
    "            dev_loss_num += compute_loss(model, batch_ix).item() * len(batch_ix)\n",
    "            dev_loss_len += len(batch_ix)\n",
    "    return dev_loss_num / dev_loss_len\n",
    "\n",
    "def generate(model, prefix=BOS, temperature=1.0, max_len=100):\n",
    "    \"\"\"\n",
    "    Samples output sequence from probability distribution obtained by model\n",
    "    :param temperature: samples proportionally to model probabilities ^ temperature\n",
    "        if temperature == 0, always takes most likely token. Break ties arbitrarily.\n",
    "    \"\"\"\n",
    "    with torch.no_grad():\n",
    "        while True:\n",
    "            token_probs = model.get_possible_next_tokens(prefix)\n",
    "            tokens, probs = zip(*token_probs.items())\n",
    "            if temperature == 0:\n",
    "                next_token = tokens[np.argmax(probs)]\n",
    "            else:\n",
    "                probs = np.array([p ** (1. / temperature) for p in probs])\n",
    "                probs /= sum(probs)\n",
    "                next_token = np.random.choice(tokens, p=probs)\n",
    "\n",
    "            prefix += next_token\n",
    "            if next_token == EOS or len(prefix) > max_len: break\n",
    "    return prefix"
   ]
  },
  {
   "cell_type": "markdown",
   "metadata": {},
   "source": [
    "### Training loop\n",
    "\n",
    "Finally, let's train our model on minibatches of data"
   ]
  },
  {
   "cell_type": "code",
   "execution_count": 25,
   "metadata": {},
   "outputs": [
    {
     "name": "stdout",
     "output_type": "stream",
     "text": [
      "Sample before training: one spoon of°]4¼½,t,°x>õdt\t)ä„¯…çà{€%z`t'óöjò­]_üîvsô–′7f¥5f,ç4‘ñh<ây¡@é`o2£‘\fú\f2gc|kq\n",
      "\n"
     ]
    }
   ],
   "source": [
    "from sklearn.model_selection import train_test_split\n",
    "train_lines, dev_lines = train_test_split(lines, test_size=0.25, random_state=42)\n",
    "\n",
    "batch_size = 256\n",
    "score_dev_every = 250\n",
    "train_history, dev_history = [], []\n",
    "model = FixedWindowLanguageModel(n_tokens=n_tokens)\n",
    "opt = torch.optim.Adam(model.parameters())\n",
    "\n",
    "model = model.to(device)\n",
    "\n",
    "# score untrained model\n",
    "dev_history.append((0, score_lines(model, dev_lines, batch_size)))\n",
    "print(\"Sample before training:\", generate(model, 'one spoon of'))"
   ]
  },
  {
   "cell_type": "code",
   "execution_count": 28,
   "metadata": {},
   "outputs": [
    {
     "data": {
      "image/png": "[encoded data removed]",
      "text/plain": [
       "<Figure size 640x480 with 1 Axes>"
      ]
     },
     "metadata": {},
     "output_type": "display_data"
    },
    {
     "name": "stdout",
     "output_type": "stream",
     "text": [
      "Generated examples (tau=0.5):\n",
      " lightly and coat each coarte pan, cook until smooth, cover with for 1 hour over the cook until the c\n",
      " has beans , until for to coat the butter and stir in the eggs , salt and pepper , add the potatoes a\n",
      " mushrooms , and cream cheese, pepper , salt and pepper, cook , or a greased makes a salt cooked wate\n",
      "Scoring dev...\n"
     ]
    },
    {
     "name": "stderr",
     "output_type": "stream",
     "text": [
      "100%|██████████| 4950/4950 [24:23<00:00,  3.38it/s]"
     ]
    },
    {
     "name": "stdout",
     "output_type": "stream",
     "text": [
      "#4999 Dev loss: 1.313\n"
     ]
    },
    {
     "name": "stderr",
     "output_type": "stream",
     "text": [
      "\n"
     ]
    }
   ],
   "source": [
    "from IPython.display import clear_output\n",
    "from random import sample\n",
    "from tqdm import trange\n",
    "import matplotlib.pyplot as plt\n",
    "\n",
    "for i in trange(len(train_history), 5000):\n",
    "    batch = to_matrix(sample(train_lines, batch_size))\n",
    "    batch = torch.as_tensor(batch, dtype=torch.int64).to(device)\n",
    "    \n",
    "    \n",
    "    loss_i = compute_loss(model, batch)\n",
    "    \n",
    "    opt.zero_grad()\n",
    "    loss_i.backward()\n",
    "    opt.step()\n",
    "        \n",
    "    train_history.append((i, loss_i.item()))\n",
    "    \n",
    "    if (i + 1) % 50 == 0:\n",
    "        clear_output(True)\n",
    "        plt.scatter(*zip(*train_history), alpha=0.1, label='train_loss')\n",
    "        if len(dev_history):\n",
    "            plt.plot(*zip(*dev_history), color='red', label='dev_loss')\n",
    "        plt.legend(); plt.grid(); plt.show()\n",
    "        print(\"Generated examples (tau=0.5):\")\n",
    "        for _ in range(3):\n",
    "            print(generate(model, temperature=0.5))\n",
    "    \n",
    "    if (i + 1) % score_dev_every == 0:\n",
    "        print(\"Scoring dev...\")\n",
    "        dev_history.append((i, score_lines(model, dev_lines, batch_size)))\n",
    "        print('#%i Dev loss: %.3f' % dev_history[-1])"
   ]
  },
  {
   "cell_type": "code",
   "execution_count": 29,
   "metadata": {},
   "outputs": [
    {
     "name": "stdout",
     "output_type": "stream",
     "text": [
      "Final dev loss: 1.3130836025581651\n",
      " coasted sugar, salt, cup kins, place on a few minutes and serve with a recipe for about 50 minutes, \n",
      " greased cook and bring to a boil , add the shredients and cook over medium-high heat , stirring of t\n",
      " mixture to a boil , remove prepare flavor the from the heat and stir in the soup with a cume for abo\n",
      " baking pan, canden pepper, salt, milk , and a large bowl , combine cake for 1-1 / 2-1 / 2 cup of the\n",
      " well best browned, add the butter cook until smooth, baking powder, salt, pepper\n",
      "\n",
      " from the carrots , stirring occasionally add the strawberries; part and sugar and cooking the chips \n",
      " chicken broth, bake in 350 for 20 minutes, remove from breasts in the boil and cook until well bette\n",
      " by favorite to purpose flour, salt, pepper, salt, preheated milk, serve with pastic and chocolate ch\n",
      " add the pepper, stir in pan and let as medium heat until the flavorite recipe from the oven to 400 d\n",
      " firm back read; sugar, salt, cheese and cook for 10 minutes or until delicine and refrigerate until \n",
      " chocolate chips, stir in the crouce the cookie sheet of the chicken break chopped the pepper, dry wh\n",
      " least on more sliced corn the spice and baking soda, make a hot of the sauce the recipe bread crumbs\n",
      " spice comes and pepper, cook until the beef brown sugar, add cheese , peasted to the can be add the \n",
      " baning , and stir in the refrigerate over medium heat, pepper flakes, sprinkle with parties or until\n",
      " brown sugar, add the remaining into the eggs and set aside, in a soup , salt and pepper , then add t\n",
      " potatoes, fresh pineapple the chicken broccoli, chicken breasts, cook water , about 1 / 2 to 3 oven \n",
      " cup of none and set aside, place the cilantro, apples and cookies; preheat oven to 350f, green peasi\n",
      " combine cheese beef, but it will beconoa dogs or until smooth, cover and serve; meat in a cooked so \n",
      " and chopped this is a to a rack on the carrots, chocolate chicken brown sugar , salt and pepper, gar\n",
      " cream and flavor and cook over the heat oven to 350f in a large consister can be sure salt and peppe\n",
      " turkey cook the crust this recipe is a great cherring to a simmer for a recipes to pan, cook on top \n",
      " carrots and cook or cooked cheese, the chocolate chicken water, drain and cream, add the chicken , t\n",
      " chicken brown sugar, garlic cloves, sifments fresh cinnamon and stir in the sement the meat in the d\n",
      " chicken bread to a boil, drain and add the pepper, cream, serve it the mixture in the egg whill to t\n",
      " chicken fresting on top of the pan over medium-high heat, add the let a pineapple, carrot, prepared \n",
      " chopped chill potatoes , baking powder, serve with the mint wine, add granulated chicken brown and s\n",
      " minches and serve with a part oven to 350f, grease and pepper , butter and pepper , cover and cook s\n",
      " spata, pressing and make with a little with salad, serve with for as least than the chicken broth, p\n",
      " chicken or stir, green onion, cocoa, salt\n",
      "\n",
      " pizza carrots , salt and pepper, potatoes, chicken with salt, baking powder, salt, cook onto needed \n",
      " carrots, combine the potatoes and cook for 5 minutes, add sugar, vegetables and serve with a part an\n",
      " add the bread cream and salt, cook all cut beer and cook frier and have bowl , combine chocolate chi\n",
      " chicken broth, pour the pan over the cream cheese and serve with parsley , fresh grands to cookies a\n",
      " large skillet , and potatoes , add chicken with salt and pieces and set aside the sugar , and cook u\n",
      " creamy sauce , combine cream, add at the beganne with a mix and cream cheese speets and cinnamon , a\n",
      " spinach into a chicken stock , and carrot, corn chopped tomatoes, garlic cloves, onion, cuch be wate\n",
      " cooking spray sauce, dry keast breast, chicken bread and tomatoes, salt, put the chicken strate for \n",
      " spate, tomato paste, remaining sauce, serve with a until well blended, cool the recipeed mix delicio\n",
      " mashed with remaining it, add chicken breasts, brown , and salt, spread over medium-high heat and st\n",
      " chicken with salt and peppers in black pepper, remove from heat, serve with the dough to 350 degrees\n",
      " from 1 hour and pan and serve also and pour mixture on the baking soda, season with salt, butter, co\n",
      " chicken sour cream, cover and cook over the cooked chicken potatoes, onion, sprinkle with paper towe\n",
      " sunch and add to pot , cooking or until set over medium-heat until the milk and pepper flake or medi\n",
      " spachees with salt and pepper, cook on the into a little and colled butter, salt, presery sauce oven\n",
      " sugar , and bake and par flater, sugar, carrot, pepper\n",
      "\n",
      " paste of it in medium heat the bowl and add the cracker to cookie mangold extract, all-purpose from \n",
      " leaves for a small bowl , cover and cook on pork basil, sprinkle with parsley for 15 minutes, in a s\n",
      " bread crumble oil, baking powder, fresh ground beef broccoli, cookie mixer , in a bread crumbs until\n",
      " can be made it on the baking soda, season with sour cream, fresh parsley, season with salt, cream ch\n",
      " chicken bread the basted pepper, cooking the chicken in a large bowl , year mashed mix together the \n",
      " shat the chicken with a salt and pepper, red carrots , salt and cooking cheese, butter, place 1 / 4 \n",
      " spartch with a combine the cooking for 3 minutes, add a the mixture , and peppers , and cheese, pars\n",
      " sugar , bread crust cheese , stirring pan, salt, pepper\n",
      "\n",
      " creamy cream , sugar , powder, cook , then pepper , and cream cheese, remove from the green onions, \n",
      " chocolate chips, fresh pineapple over medium heat, add cool cookies , and serve with chicken cut sti\n",
      " made the case the chicken the cream and in a bread crumble cheese, pans, salt and beat and beans and\n",
      " chocolate chips, salt, add sprinkle with a for a large refrigerate for 2 minutes until combine, plac\n",
      " chicken from the recipe from pepper, enjoy !; this recipe is recipe reserve chicken breast and parme\n",
      " basil and serve imall it a small stick soup and stir in the pan and pepper, bake and chocola for and\n",
      " greased chicken broth and salt and pepper or stir in the sauce, salt, pepper\n",
      "\n",
      " bread crumbs chicken broth, bake at 350 degrees for 10 minutes , stirring off, in a small bowl, remo\n",
      " bread cream cheese, pepper , and stir in the remaining ingredients, confy salt , butter, chicken spr\n",
      " chicken breast milk, milk, vanilla extract, the oregano, callow, place marger of the from carrots, c\n",
      " pasta and salt, brown sugar , salt and pepper, garlic parsley over the chopped all twered sugar, sal\n",
      " chicken browned, powden, stir in the completely chopped cream cheese cookies and serve with a skille\n",
      " cookie the sauce and serve with your chicken breast and pepper, add egg mixture and drain and red ab\n",
      " mason and add the onions , stirring occasionally , chedding and bake for 30 minutes, drinkle with th\n",
      " find in a large bowl , combine pasta and mixture , and 1 / 4 cup of parsley, lime juice, spread if t\n",
      " sour cream cheese, salt, putmed potatoes or franger and cook for 5 minutes , and all but half of pie\n",
      " pot of boiling water, salt & pepper, garlic cloves, fresh pan and stir fry the pan and side until sm\n",
      " pie cake with parsley, then red pepper , baking soda salad for a boil over medium heat and span , to\n",
      " lentil lightly tomatoes, cook until stir in the better in a make the made and from the baking soda, \n",
      " chocolate chips, cool mixture into a large skillet boil, add the chicken marinate flavors; whipping \n",
      " flour , baking pan, cook , stirring of the mixture and stir in the pan and pepper, make the eggs , l\n",
      " grease and simmer , covered , then pot seeds, red pepper, cut into 1 / 3 cup paper to a boil, reduce\n",
      " chopped cream cheesemally , until smooth, combine cream cheese, heribage the chicken breasts mixture\n",
      " combine chopped break , then pot, been and place the sauce and add the chicken , and pepper of and c\n",
      " spoon stirring , let stand for and cookie cream the oven to 350f, green beef sour, top vegetable oil\n",
      " sugar, add the pan and potatoes and put into a large skillet , the pan and brush the sauce in a sauc\n",
      " milk , add the salted butter , and make a medium size the cake serve oven for 20 minutes or until th\n",
      " vegetable oil, season with remaining for until beated parmesan cheese, then prepared milk , salt , r\n",
      " my in a saucepan chicken and remove the sauce over the chicken sauce, eggs , refrigerate until the o\n",
      " sizzue over medium heat , butter, onion , beat to cool combine and pepper, carrots, cook and flour, \n",
      " make add the bars in a small boil and boil, add the cutter burger bake and cook over low to cool unt\n",
      " puree cookie soup, served this is a large skillet , place brown sugar , stirring of the sauce the co\n",
      " beef beef or some peanut butter , for about 2 minutes, tomatoes, cook , put in the cinnamon, serve w\n",
      " sugar and sugar in a large bowl, pour into 1 / 4 cup of the canding and salt and pepper, pour in a l\n",
      " cream cheese cooked shrimp and pasta and cook until the batter in the eggs, minutes or until coldda,\n",
      " cream from the carrots, cook until the cream cheese to coat and recoper with a side dish the cace th\n",
      " whore cheese, serve is a not this recipe in a small powder, green onions, salt, brown, we to greased\n",
      " great  cream cheese to a place on a large potatoes, cover all pieces or until slightly spray, brown \n",
      " breadcrust and serve with a side do roil , combine the remaining broiled , and margarine, spread ove\n",
      " breast salt, cook in the called and to the baking pan, cook desh with the lemon juice, cover and coo\n",
      " into the refrigerate until cooked, sprinkle with marraising is a boil, serve , add this is a side do\n",
      " cream cheese and cook and preat on lightly bread and chicken broth , salt and pepper, bake in pan, p\n",
      " sume dough to the cures are some soas cheese one and cook ; this is a sauce and make the pan and sal\n",
      " crisp with this is thicken brown sugar , water to serve the butter , heat and stir on the large bowl\n",
      " hot year and black beans, brown, remove from the oven to 375 degrees for 15 minutes , or until go th\n",
      " sugar , salt and pepper, garlic cloves, serve with soup and garlic cloves and cut batter in the comb\n",
      " baking dish, bake for 35 minutes or until a large potatoes and the fresh margarine all butter and yo\n"
     ]
    }
   ],
   "source": [
    "assert np.mean(train_history[:10], axis=0)[1] > np.mean(train_history[-10:], axis=0)[1], \"The model didn't converge.\"\n",
    "print(\"Final dev loss:\", dev_history[-1][-1])\n",
    "\n",
    "for i in range(100):\n",
    "    print(generate(model, temperature=0.5))"
   ]
  },
  {
   "cell_type": "code",
   "execution_count": 30,
   "metadata": {},
   "outputs": [],
   "source": [
    "# Save the model \n",
    "torch.save(model.state_dict(), 'model.pt')"
   ]
  },
  {
   "cell_type": "markdown",
   "metadata": {},
   "source": [
    "### RNN Language Models \n",
    "\n",
    "Fixed-size architectures are reasonably good when capturing short-term dependencies, but their design prevents them from capturing any signal outside their window. We can mitigate this problem by using a __recurrent neural network__:\n",
    "\n",
    "$$ h_0 = \\vec 0 ; \\quad h_{t+1} = RNN(x_t, h_t) $$\n",
    "\n",
    "$$ p(x_t \\mid x_0, \\dots, x_{t-1}, \\theta) = dense_{softmax}(h_{t-1}) $$\n",
    "\n",
    "Such model processes one token at a time, left to right, and maintains a hidden state vector between them. Theoretically, it can learn arbitrarily long temporal dependencies given large enough hidden size.\n",
    "\n",
    "<img src='https://raw.githubusercontent.com/yandexdataschool/nlp_course/master/resources/rnn_lm.jpg' width=480px>"
   ]
  },
  {
   "cell_type": "code",
   "execution_count": 12,
   "metadata": {},
   "outputs": [],
   "source": [
    "class RNNLanguageModel(nn.Module):\n",
    "    def __init__(self, n_tokens=n_tokens, emb_size=16, hid_size=256, num_layers=2, dropout=0.5):\n",
    "        \"\"\"\n",
    "        A recurrent language model with multiple LSTM layers and dropout.\n",
    "        \n",
    "        Parameters:\n",
    "            - n_tokens: Vocabulary size\n",
    "            - emb_size: Size of the embedding vector for each token\n",
    "            - hid_size: Size of the hidden state in the LSTM layers\n",
    "            - num_layers: Number of LSTM layers to stack\n",
    "            - dropout: Dropout probability to apply after each LSTM layer\n",
    "        \"\"\"\n",
    "        super().__init__() # initialize base class to track sub-layers, trainable variables, etc.\n",
    "\n",
    "        self.emb = nn.Embedding(n_tokens, emb_size)\n",
    "        self.rnn = nn.LSTM(emb_size, hid_size, num_layers=num_layers,\n",
    "                           batch_first=True, dropout=dropout if num_layers > 1 else 0)\n",
    "        self.hid_to_logits = nn.Linear(hid_size, n_tokens)\n",
    "        self.dropout = nn.Dropout(dropout)\n",
    "\n",
    "    def forward(self, input_ix):\n",
    "\n",
    "        # Compute token embeddings\n",
    "        input_emb = self.emb(input_ix)\n",
    "\n",
    "        # Apply RNN\n",
    "        rnn_out, _ = self.rnn(input_emb)\n",
    "\n",
    "        # Apply dropout\n",
    "        rnn_out = self.dropout(rnn_out)\n",
    "\n",
    "        # Compute logits\n",
    "        logits = self.hid_to_logits(rnn_out)\n",
    "\n",
    "        return logits\n",
    "    \n",
    "    def get_possible_next_tokens(self, prefix=BOS, temperature=1.0, max_len=100):\n",
    "        \"\"\" :returns: probabilities of next token, dict {token : prob} for all tokens \"\"\"\n",
    "        prefix_ix = torch.as_tensor(to_matrix([prefix]), dtype=torch.int64).to(device)\n",
    "        with torch.no_grad():\n",
    "            probs = torch.softmax(self(prefix_ix)[0, -1], dim=-1).cpu().numpy()\n",
    "\n",
    "        return dict(zip(tokens, probs))\n"
   ]
  },
  {
   "cell_type": "code",
   "execution_count": 13,
   "metadata": {},
   "outputs": [
    {
     "name": "stdout",
     "output_type": "stream",
     "text": [
      "Weights: ('emb.weight', 'rnn.weight_ih_l0', 'rnn.weight_hh_l0', 'rnn.bias_ih_l0', 'rnn.bias_hh_l0', 'rnn.weight_ih_l1', 'rnn.weight_hh_l1', 'rnn.bias_ih_l1', 'rnn.bias_hh_l1', 'hid_to_logits.weight', 'hid_to_logits.bias')\n"
     ]
    }
   ],
   "source": [
    "model = RNNLanguageModel()\n",
    "\n",
    "dummy_input_ix = torch.as_tensor(to_matrix(dummy_lines))\n",
    "dummy_logits = model(dummy_input_ix)\n",
    "\n",
    "assert isinstance(dummy_logits, torch.Tensor)\n",
    "assert dummy_logits.shape == (len(dummy_lines), max(map(len, dummy_lines)), n_tokens), \"please check output shape\"\n",
    "assert not np.allclose(dummy_logits.cpu().data.numpy().sum(-1), 1), \"please predict linear outputs, don't use softmax (maybe you've just got unlucky)\"\n",
    "print('Weights:', tuple(name for name, w in model.named_parameters()))"
   ]
  },
  {
   "cell_type": "code",
   "execution_count": 14,
   "metadata": {},
   "outputs": [
    {
     "ename": "AssertionError",
     "evalue": "your model's predictions depend on FUTURE tokens.  Make sure you don't allow any layers to look ahead of current token. You can also get this error if your model is not deterministic (e.g. dropout). Disable it for this test.",
     "output_type": "error",
     "traceback": [
      "\u001b[0;31m---------------------------------------------------------------------------\u001b[0m",
      "\u001b[0;31mAssertionError\u001b[0m                            Traceback (most recent call last)",
      "\u001b[1;32m/workspaces/nlp_cook_dishes/notebooks/02_RNN.ipynb Cell 39\u001b[0m line \u001b[0;36m5\n\u001b[1;32m      <a href='vscode-notebook-cell://codespaces%2Bverbose-xylophone-v5vw4j5rp4phx5gr/workspaces/nlp_cook_dishes/notebooks/02_RNN.ipynb#X53sdnNjb2RlLXJlbW90ZQ%3D%3D?line=1'>2</a>\u001b[0m dummy_input_ix_2 \u001b[39m=\u001b[39m torch\u001b[39m.\u001b[39mas_tensor(to_matrix([line[:\u001b[39m3\u001b[39m] \u001b[39m+\u001b[39m \u001b[39m'\u001b[39m\u001b[39me\u001b[39m\u001b[39m'\u001b[39m \u001b[39m*\u001b[39m (\u001b[39mlen\u001b[39m(line) \u001b[39m-\u001b[39m \u001b[39m3\u001b[39m) \u001b[39mfor\u001b[39;00m line \u001b[39min\u001b[39;00m dummy_lines]))\n\u001b[1;32m      <a href='vscode-notebook-cell://codespaces%2Bverbose-xylophone-v5vw4j5rp4phx5gr/workspaces/nlp_cook_dishes/notebooks/02_RNN.ipynb#X53sdnNjb2RlLXJlbW90ZQ%3D%3D?line=2'>3</a>\u001b[0m dummy_logits_2 \u001b[39m=\u001b[39m model(dummy_input_ix_2)\n\u001b[0;32m----> <a href='vscode-notebook-cell://codespaces%2Bverbose-xylophone-v5vw4j5rp4phx5gr/workspaces/nlp_cook_dishes/notebooks/02_RNN.ipynb#X53sdnNjb2RlLXJlbW90ZQ%3D%3D?line=4'>5</a>\u001b[0m \u001b[39massert\u001b[39;00m torch\u001b[39m.\u001b[39mallclose(dummy_logits[:, :\u001b[39m3\u001b[39m], dummy_logits_2[:, :\u001b[39m3\u001b[39m]), \u001b[39m\"\u001b[39m\u001b[39myour model\u001b[39m\u001b[39m'\u001b[39m\u001b[39ms predictions depend on FUTURE tokens. \u001b[39m\u001b[39m\"\u001b[39m \\\n\u001b[1;32m      <a href='vscode-notebook-cell://codespaces%2Bverbose-xylophone-v5vw4j5rp4phx5gr/workspaces/nlp_cook_dishes/notebooks/02_RNN.ipynb#X53sdnNjb2RlLXJlbW90ZQ%3D%3D?line=5'>6</a>\u001b[0m     \u001b[39m\"\u001b[39m\u001b[39m Make sure you don\u001b[39m\u001b[39m'\u001b[39m\u001b[39mt allow any layers to look ahead of current token.\u001b[39m\u001b[39m\"\u001b[39m \\\n\u001b[1;32m      <a href='vscode-notebook-cell://codespaces%2Bverbose-xylophone-v5vw4j5rp4phx5gr/workspaces/nlp_cook_dishes/notebooks/02_RNN.ipynb#X53sdnNjb2RlLXJlbW90ZQ%3D%3D?line=6'>7</a>\u001b[0m     \u001b[39m\"\u001b[39m\u001b[39m You can also get this error if your model is not deterministic (e.g. dropout). Disable it for this test.\u001b[39m\u001b[39m\"\u001b[39m\n",
      "\u001b[0;31mAssertionError\u001b[0m: your model's predictions depend on FUTURE tokens.  Make sure you don't allow any layers to look ahead of current token. You can also get this error if your model is not deterministic (e.g. dropout). Disable it for this test."
     ]
    }
   ],
   "source": [
    "# test for lookahead\n",
    "dummy_input_ix_2 = torch.as_tensor(to_matrix([line[:3] + 'e' * (len(line) - 3) for line in dummy_lines]))\n",
    "dummy_logits_2 = model(dummy_input_ix_2)\n",
    "\n",
    "assert torch.allclose(dummy_logits[:, :3], dummy_logits_2[:, :3]), \"your model's predictions depend on FUTURE tokens. \" \\\n",
    "    \" Make sure you don't allow any layers to look ahead of current token.\" \\\n",
    "    \" You can also get this error if your model is not deterministic (e.g. dropout). Disable it for this test.\""
   ]
  },
  {
   "cell_type": "markdown",
   "metadata": {},
   "source": [
    "### RNN training\n",
    "\n",
    "Our RNN language model should optimize the same loss function as fixed-window model. But there's a catch. Since RNN recurrently multiplies gradients through many time-steps, gradient values may explode, [ruining](https://raw.githubusercontent.com/yandexdataschool/nlp_course/master/resources/nan.jpg) your model.\n",
    "The common solution to that problem is to clip gradients either [individually](https://www.tensorflow.org/versions/r2.0/api_docs/python/tf/clip_by_value) or [globally](https://www.tensorflow.org/versions/r2.0/api_docs/python/tf/clip_by_global_norm).\n",
    "\n",
    "Your task here is to implement the training code that minimizes the loss function. If you encounter large loss fluctuations during training, please add [gradient clipping](https://pytorch.org/docs/stable/generated/torch.nn.utils.clip_grad_norm_.html) using urls above. But its **not necessary** to use gradient clipping if you don't need it.\n",
    "\n",
    "_Note: gradient clipping is not exclusive to RNNs. Convolutional networks with enough depth often suffer from the same issue._"
   ]
  },
  {
   "cell_type": "code",
   "execution_count": null,
   "metadata": {},
   "outputs": [],
   "source": [
    "from sklearn.model_selection import train_test_split\n",
    "train_lines, dev_lines = train_test_split(lines, test_size=0.25, random_state=42)\n",
    "\n",
    "batch_size = 64         # <-- please tune batch size to fit your CPU/GPU configuration\n",
    "score_dev_every = 250\n",
    "train_history, dev_history = [], []\n",
    "\n",
    "model = RNNLanguageModel().to(device)\n",
    "opt = torch.optim.Adam(model.parameters())\n",
    "\n",
    "# score untrained model\n",
    "dev_history.append((0, score_lines(model, dev_lines, batch_size)))"
   ]
  },
  {
   "cell_type": "code",
   "execution_count": 20,
   "metadata": {},
   "outputs": [
    {
     "name": "stdout",
     "output_type": "stream",
     "text": [
      "Sample before training: one spoon of~‘¾fª;¾ëßa$3‹e‘\\x+.ò=¥,+@%û¤;1€p4&`>•`ç]êš150£êôñ{ñ♥‚ºà`[|⁄ò1\\⁄′ê\fbòföm\u0010ij€ú£¼6/\f’á2öåõi`\n"
     ]
    }
   ],
   "source": [
    "print(\"Sample before training:\", generate(model, 'one spoon of'))"
   ]
  },
  {
   "cell_type": "code",
   "execution_count": 22,
   "metadata": {},
   "outputs": [
    {
     "data": {
      "image/png": "[encoded data removed]",
      "text/plain": [
       "<Figure size 640x480 with 1 Axes>"
      ]
     },
     "metadata": {},
     "output_type": "display_data"
    },
    {
     "name": "stdout",
     "output_type": "stream",
     "text": [
      "Generated examples (tau=0.5):\n",
      " silsler cookbook bean cheese chickes; preheat oven to 350 degrees, while sherry , combine the halves\n",
      " chicken in another saucepan  pan and sour; stir in chocolate chips, place in skillet , parmesan pape\n",
      " strips and sauce and poult meat in cookies; i found the chicken into the warm patty sharp powder and\n",
      "Scoring dev...\n"
     ]
    },
    {
     "name": "stderr",
     "output_type": "stream",
     "text": [
      "100%|██████████| 4950/4950 [1:31:03<00:00,  1.10s/it]"
     ]
    },
    {
     "name": "stdout",
     "output_type": "stream",
     "text": [
      "#4999 Dev loss: 1.135\n"
     ]
    },
    {
     "name": "stderr",
     "output_type": "stream",
     "text": [
      "\n"
     ]
    }
   ],
   "source": [
    "from IPython.display import clear_output\n",
    "from random import sample\n",
    "from tqdm import trange\n",
    "import matplotlib.pyplot as plt\n",
    "\n",
    "for i in trange(len(train_history), 5000):\n",
    "    batch = to_matrix(sample(train_lines, batch_size))\n",
    "    batch = torch.as_tensor(batch, dtype=torch.int64).to(device)\n",
    "\n",
    "    loss_i = compute_loss(model, batch)\n",
    "\n",
    "    opt.zero_grad()\n",
    "    loss_i.backward()\n",
    "    opt.step()\n",
    "        \n",
    "    train_history.append((i, loss_i.item()))\n",
    "    \n",
    "    if (i + 1) % 50 == 0:\n",
    "        clear_output(True)\n",
    "        plt.scatter(*zip(*train_history), alpha=0.1, label='train_loss')\n",
    "        if len(dev_history):\n",
    "            plt.plot(*zip(*dev_history), color='red', label='dev_loss')\n",
    "        plt.legend(); plt.grid(); plt.show()\n",
    "        print(\"Generated examples (tau=0.5):\")\n",
    "        for _ in range(3):\n",
    "            print(generate(model, temperature=0.5))\n",
    "    \n",
    "    if (i + 1) % score_dev_every == 0:\n",
    "        print(\"Scoring dev...\")\n",
    "        dev_history.append((i, score_lines(model, dev_lines, batch_size)))\n",
    "        print('#%i Dev loss: %.3f' % dev_history[-1])"
   ]
  },
  {
   "cell_type": "code",
   "execution_count": 24,
   "metadata": {},
   "outputs": [],
   "source": [
    "# Save the model \n",
    "torch.save(model.state_dict(), 'model_rnn.pt')"
   ]
  },
  {
   "cell_type": "markdown",
   "metadata": {},
   "source": [
    "Generated examples (tau=0.5):\n",
    " arsl bon teae boah in tire aate tedite fote sretoe cess sed caual csare ion  innl ooe con , bhee bue\n",
    "  2%|▏         | 100/4950 [00:44<42:24,  1.91it/s] esto p tre tonus sesm al, bhesite rerilh bor fl tote bouk oon coe loe coes on bn cor ter aed  avsr p\n",
    " &aaeae acc sn pot pted aome, sonte monsd tod coces oil vre inea supat nr toh aln  fe tl aud dhet loe\n",
    "  2%|▏         | 108/4950 [00:47<30:57,  2.61it/s]\n",
    "\n",
    "Generated examples (tau=0.5):\n",
    " saut to the aprentire the heat pocker, slice and mowlers framasad salt mide a bould sauce a sart or \n",
    " 10%|█         | 500/4950 [09:06<43:29,  1.71it/s] for corested and seming of the minutes, red and the dedered hear , and depper sitin to rice bo lerce\n",
    " tor the back and and to garlic and perres , cool onion the fand in 1 bake coult add a sheat to the a\n",
    " 10%|█         | 513/4950 [09:12<30:19,  2.44it/s]\n",
    "\n",
    " Generated examples (tau=0.5):\n",
    " gord cheese from ingrondeas of pould and serve in the read and remaice flour, spinet cimes  is in fl\n",
    " 20%|██        | 1000/4950 [18:14<43:52,  1.50it/s] chill cooking salt and poar on tho cooked to the lish mixture of tunden the the buther the eggs, ser\n",
    " grome water collon as a hancarch to a thicken at the cooking strips for 1 2 mind for to 2 minutes on\n",
    " 20%|██        | 1009/4950 [18:19<30:59,  2.12it/s]\n",
    "\n",
    "Generated examples (tau=0.5):\n",
    " waters: to the coully continue chicken on dound sopet , mix and cool and sugar of the place over the\n",
    " 40%|████      | 2000/4950 [36:25<32:39,  1.51it/s] spread tranblecti; add thickened from fry, pour the chicken , as the right and but with sprinkle and\n",
    " bake dink or and apall with cheddar peas and heet cook blanch for 20 milut in a carbon of the ciname\n",
    " 41%|████      | 2034/4950 [36:39<18:35,  2.61it/s]\n",
    "\n",
    " Generated examples (tau=0.5):\n",
    " carrots to dry hest tho simmer; pour the tomatoes and very the thick and chopped and read the layere\n",
    "\n",
    "\n",
    "\n"
   ]
  },
  {
   "cell_type": "code",
   "execution_count": 23,
   "metadata": {},
   "outputs": [
    {
     "name": "stdout",
     "output_type": "stream",
     "text": [
      "Final dev loss: 1.1349796967684016\n",
      " green pepper bacon crust; cook with a cottage cheese, serve warm, salt and pepper in a saucepan over\n",
      " more batter salad and ensain lighels; plta piece of the sunday and bake for about 30 minutes or unti\n",
      " sauce caresul chicken served butter sho the chips; pretaro water in a large skillet , set aside, pla\n",
      " beef pieces; preheat oven to 350f, butter half in a large bowl , combine and then sprinkle with choo\n",
      " chocolate sauce   year and salsa; in a bowl and place in a large bowl , combine the chicken , and th\n",
      " shape and coloring  bean grahot butter legly; in a large bowl, combine the oil and chicken, in a lar\n",
      " my wast water sauce and wine nich; remove from heat and season with salt and pepper and sprinkle in \n",
      " bread sprinkling in the chocolate chips  according pork chips; combine the fresh cheese and salt, st\n",
      " salsa sauce; place the addities on the sauce in a smill bowl, cover and let stand for 20 minutes or \n",
      " sandwiches  blughes s carrots; preheat oven to 350 degrees f, top with a greased pan and stir with c\n",
      " cheac can margarica cheese soup cheese pizza mixter; preheat oven to 350f , and set steas ontune to \n",
      " brown chicken bread strawberry garlic and butter back and water; prepare the reached for a carrots a\n",
      " carrots and salsa; in a large bowl , stir in salt and pepper, spinach on tablespoon of basil and sal\n",
      " meat and lemon spaphernes s bars are simple  chops for the chicken; cut the browning pan and stir in\n",
      " liquid or sheet salad mixture with corn well stew mavana spice; preheat oven to 350f, sprinkle a mix\n",
      " soup brown pie sauce; preheat oven to 375 degrees for 15 minutes , or until the cornstarch are coust\n",
      " frinde all with ganay freeze the offer recipe; combine sugar , salt and sugar and lemon juice in a c\n",
      " chocolate sugar bread; spread cheese , and bring to a boil, stir in the salt and pepper, beat butter\n",
      " egg in sour cream chicken chips; preheat oven to 450fding pan, spread the carrots to the cookies and\n",
      " puree s a butterand    for   garlic basil   low  made water healthier; chicken cook peppers and serv\n",
      " chicken garlic sreal par sauce; combine all stick on ingredients in a smalk bowl and salt, add the p\n",
      " strawberries   iver cookies   that pofke grease s chilli recipe; preheat oven to 350, cook on high h\n",
      " pan and parmesan bread choes  parti chicken; brown brown sugar , or as a par surflated chicken breas\n",
      " chip sugar bake chicken to cooking sauce; preheat oven to 375f grease and stir with salt , stirring \n",
      " garnish milk rice with sundly cookies; slice white chicken sticks in the mawrow sprayed on top of th\n",
      " chicken chocolate a wriphed cookies; better cooked salt on the baking sheet, remove welg the chocola\n",
      " best potato bake with a mimel crushed paralan; preheat oven to 350 degrees f, line the cooling patte\n",
      " each s dinner with onions and crackers; pour the cream cheese and chopped onion and cook until smoot\n",
      " spread simmer chop with thy sauce; heat a large softened skillet over medium heat , stirring to prep\n",
      " the potatoes and grated chili potatoes; combine cheese , and seasoning , salt and pepper in a sipped\n",
      " pork lemon fat flavor salt   carrots; combine all ingredients in a large skillet or margarine and ad\n",
      " chicken potato soup bean and dried caricta; combine bacana sauce and coridge soup , baking salt and \n",
      " olive of recipe in a spice; but i have sone remaining same drippi with cold and saute potatoes or th\n",
      " potet more s chicken mix of wight meal; cook combine onion mixture and chili powder and stir in dark\n",
      " sour cream cheese and salt and salta fry water; mix for a skallot and drispings in a large bowl in a\n",
      " sound a spinach soup; allow to a golden bourion and spread on top of the ball and 1 / 2 teaspoon of \n",
      " chedly chicken potatoes; preheat oven to 400f, combine flour , carrots, stir in chicken and black be\n",
      " layer way  salad; coat chicken and garnish with green beans and press in the produf of medium season\n",
      " package cheese peach rice; preheat the oven to 350 degrees, triandtal in the cheese to trayere with \n",
      " salsa on the chopped meals rice; preheat oven to 350, place sugar , and spread in a bowl, do not cut\n",
      " chicken and mix and saute cookie margar and sliced chicken; combine the the ground bacon , white sug\n",
      " chocolate chops; preheat oven to 400 degrees f, stir in mixture into a bowl and cook the top of the \n",
      " pinta tomato sauce; add tomatoes , pepper , bananas , and half and sugar and press into the chicken \n",
      " corn dash crust and cheese; preheat oven to 350f, preheat oven to 400 degrees f the seasoned cooking\n",
      " chicken cake chicken; preheat oven to 350 degrees, top of the crust on top of the chocolate clom int\n",
      " netsell soup to cook for any stook  the like the pan canned sauce and fat; combine sour cream , suga\n",
      " seamed plantating causing and serve; this is you want the elgriend , and cooked remaining ingredient\n",
      " chocolate chocolate cheese and ricotta sauce; cake mix least a cookie sheet, drain and sprinkle with\n",
      " sout chicken sauce; cashees of cream cheese , casheas and water and saute a little of the mixture , \n",
      " chocolate cheese chicken; in a large bowl , beat egg whites and beat flat and romaine bake one to a \n",
      " rice pantas chay chicken  pressing; preheat oven to 350 degrees, bring to boil with onions, put bean\n",
      " cheesy sauce; bake around 1 tooull bake up the back over more sauce , serve with the second strips, \n",
      " mandarin and cheddar cheese; in a large bowl , stir in the chicken broth , salt and pepper to the se\n",
      " and mushrooms; in a soverowi sauce grease with the entita to it is places and place corn flake and w\n",
      " skillet  mix well   the recipe turkey fragrant or pintespane; cook the salad and add to shallo salad\n",
      " bacon sour; preheat oven to 350 degrees, in a noodles, place chicken in a saucepan , then place pan \n",
      " butter same lime chopped chicken binenat; minute the dough in a band , in a blender , stirring ocine\n",
      " baking shaber and serve propote the sausage carownen; preheat oven to 450 degrees f 250 dough and th\n",
      " corn milk potato sauce; bake chicken from half , in a light cook a smooth sauce, beat in the milk , \n",
      " creca boratil each pepper blueberruries; in a large bowl , combine the sauce on top , bay leaves , s\n",
      " shell and preparation salad; pour the over seadboile stirs and bake at 350 degeres over look or mode\n",
      " chanse   onion with funy in the pasta chips; preheat oven to 375 , fried the chocolate that the deli\n",
      " simple chicken salad with salsa with cheese; preheat the oven to 350 degrees f lightly cooker, pres \n",
      " torterlis corn red pespoon   low cake and saffrage    to a cake cake; brown the bottom of the cookin\n",
      " simmer serving; cook , stirring occasionally until the cooked sausage for 1 minute, combine with an \n",
      " cauliflower   chicken s and salt; preheat oven to 350f, in a small saucepan over medium heat 1 hill \n",
      " starking leaves   on e black chicken breasts; preheat oven to 325 degrees, spread the soars in a lar\n",
      " linduin orange jars; carefully cook the flavors with into the sauce over the skillet over a small bo\n",
      " cheese chops; stir in the remaining enough onions , whipping cream , coconut and sea salt and peanut\n",
      " egg dish cooked chicken or taca and roam chicken; preheat oven to 300f and cover and stir over mediu\n",
      " caloves in a copf cheese brownies; preheat oven to 350f, preheat oven to 350 degrees f the heat and \n",
      " 2 lover great delician ; slicing air with pasta , cooking side of a springdow steak or the baronay b\n",
      " sure polke in cooking or silloces; mix the ingredients in both sauce on a large food be for a minute\n",
      " grilled pudding crust of tofs  from chili cheese; plased pan any chicken , sprinkle half the sauce i\n",
      " sour conta serving s as bagen; place butter in a large pot , stirking ow medium speed in half and br\n",
      " creamy brown cookie with peas and all add chicken; biners melted butter , onion and sauce with semon\n",
      " chocolate cheese bread   faff well   garlic red chili pasta chicken; place salad and continue to coo\n",
      " meal salad topped wite carrot sauce with salt and bars; cook the concentrace to a creamy saucepan , \n",
      " chuck bottom bread  and soup crust; combine bananas , cheddar and cinnamon in the moderatery with tw\n",
      " chocolate veavy sauce; preheat oven to 350 degrees s and to add the crushed chicken on a large start\n",
      " meat sauce with parmesan chickened potatoes; mix the chicken in the creme cheese and serve, spread i\n",
      " carrot chunks and basiled potatoes; heat oven to 375 degrees dreps of bacon transferd, pour over ing\n",
      " large non milk chips combine all with salt and pepper and chicken sauce back  potato parsley; in a s\n",
      " brushats in a potato and cook and salt as a more panana borganis; drized baked batter with beef with\n",
      " simmer topping.; sigcute sticking and salt , and salt and pepper to a boil, brown pot to bake at 350\n",
      " cheddar corn coffee chicken porte chunchy salad; preheat work attemple cooking place chocolate cooki\n",
      " food chicken grilled sugar   italian solate; pour and white the patters top of the butter and saut u\n",
      " chili soup  canory sauce; in a small mixing bowl , stir in sticks of oregano, add the grated salt an\n",
      " sealootion  cold water with as anowepas   ball salt and batter; preheat oven to 400f , stir in the b\n",
      " might cabbage with the batter ingredients and chist; in a large skillet , combine parmesan cheese an\n",
      " starsh cheese sauce; preheat oven to 150 degrees f, bring to a boil and remove from heat, add chicke\n",
      " sausage the really package.; container onion , chilie papers, comes , onion until all chicken in a s\n",
      " lemon chicken  i have bread   the salta and salted givar; in a medium saucepan , season with cooking\n",
      " chicken sauce cookies; in saucepan to a serving steaks, add carrots , remove all ingredients in ched\n",
      " someth with basic chicken soup; combine graham cruccen spache and butter, cover , and cook over medi\n",
      " roasted cacoviens salad work lool to great before corn so the mexture in the soup; preheat oven to 3\n",
      " green bell pepper skillet and brown sauce; in a preheated oven for 30 minutes or until smooth and po\n",
      " salad   a garnish is dostacha s s frozcutem and chicken sherry  salralli; of a simmer or squash powd\n",
      " crisp and bean from two sauce s serving sauce; or taste in a corn water , add the beans and stirming\n",
      " safe freezer tomato sauce; preheat oven to 450, in a large bowl , black beec wonken in a callop wash\n"
     ]
    }
   ],
   "source": [
    "assert np.mean(train_history[:10], axis=0)[1] > np.mean(train_history[-10:], axis=0)[1], \"The model didn't converge.\"\n",
    "print(\"Final dev loss:\", dev_history[-1][-1])\n",
    "for i in range(100):\n",
    "    print(generate(model, temperature=0.5))"
   ]
  },
  {
   "cell_type": "markdown",
   "metadata": {},
   "source": [
    "### Alternative sampling strategies\n",
    "\n",
    "So far we've sampled tokens from the model in proportion with their probability.\n",
    "However, this approach can sometimes generate nonsense words due to the fact that softmax probabilities of these words are never exactly zero. This issue can be somewhat mitigated with sampling temperature, but low temperature harms sampling diversity. Can we remove the nonsense words without sacrificing diversity? __Yes, we can!__ But it takes a different sampling strategy.\n",
    "\n",
    "__Top-k sampling:__ on each step, sample the next token from __k most likely__ candidates from the language model.\n",
    "\n",
    "Suppose $k=3$ and the token probabilities are $p=[0.1, 0.35, 0.05, 0.2, 0.3]$. You first need to select $k$ most likely words and set the probability of the rest to zero: $\\hat p=[0.0, 0.35, 0.0, 0.2, 0.3]$ and re-normalize: \n",
    "$p^*\\approx[0.0, 0.412, 0.0, 0.235, 0.353]$.\n",
    "\n",
    "__Nucleus sampling:__ similar to top-k sampling, but this time we select $k$ dynamically. In nucleus sampling, we sample from top-__N%__ fraction of the probability mass.\n",
    "\n",
    "Using the same  $p=[0.1, 0.35, 0.05, 0.2, 0.3]$ and nucleus N=0.9, the nucleus words consist of:\n",
    "1. most likely token $w_2$, because $p(w_2) < N$\n",
    "2. second most likely token $w_5$, $p(w_2) + p(w_5) = 0.65 < N$\n",
    "3. third most likely token $w_4$ because $p(w_2) + p(w_5) + p(w_4) = 0.85 < N$\n",
    "\n",
    "And thats it, because the next most likely word would overflow: $p(w_2) + p(w_5) + p(w_4) + p(w_1) = 0.95 > N$.\n",
    "\n",
    "After you've selected the nucleus words, you need to re-normalize them as in top-k sampling and generate the next token.\n",
    "\n",
    "__Task__: implement nucleus sampling variant and see if it is any good."
   ]
  },
  {
   "cell_type": "code",
   "execution_count": 25,
   "metadata": {},
   "outputs": [],
   "source": [
    "def generate_nucleus(model, prefix=BOS, nucleus=0.9, max_len=100):\n",
    "    \"\"\"\n",
    "    Generate a sequence with nucleus sampling\n",
    "    :param prefix: a string containing space-separated previous tokens\n",
    "    :param nucleus: N from the formulae above, N \\in [0, 1]\n",
    "    :param max_len: generate sequences with at most this many tokens, including prefix\n",
    "    \n",
    "    :note: make sure that nucleus always contains at least one word, even if p(w*) > nucleus\n",
    "    \n",
    "    \"\"\"\n",
    "    while True:\n",
    "        token_probs = model.get_possible_next_tokens(prefix)\n",
    "        tokens, probs = zip(*token_probs.items())\n",
    "        sorted_probs, sorted_tokens = zip(*sorted(zip(probs, tokens), reverse=True))\n",
    "        sorted_probs = np.array(sorted_probs)\n",
    "        sorted_probs /= sorted_probs.sum()\n",
    "        sorted_probs = np.cumsum(sorted_probs)\n",
    "        sorted_tokens = np.array(sorted_tokens)\n",
    "        if nucleus < sorted_probs[0]:\n",
    "            next_token = sorted_tokens[0]\n",
    "        else:\n",
    "            next_token = sorted_tokens[sorted_probs < nucleus][-1]"
   ]
  },
  {
   "cell_type": "code",
   "execution_count": 28,
   "metadata": {},
   "outputs": [],
   "source": [
    "for i in range(10):\n",
    "    print(generate_nucleus(model, nucleus=0.9))"
   ]
  },
  {
   "cell_type": "markdown",
   "metadata": {},
   "source": [
    "### Beam Search \n",
    "\n",
    "At times, you don't really want the model to generate diverse outputs as much as you want a __single most likely hypothesis.__ A single best translation, most likely continuation of the search query given prefix, etc. Except, you can't get it. \n",
    "\n",
    "In order to find the exact most likely sequence containing 10 tokens, you would need to enumerate all $|V|^{10}$ possible hypotheses. In practice, 9 times out of 10 you will instead find an approximate most likely output using __beam search__.\n",
    "\n",
    "Here's how it works:\n",
    "0. Initial `beam` = [prefix], max beam_size = k\n",
    "1. for T steps:\n",
    "2. ` ... ` generate all possible next tokens for all hypotheses in beam, formulate `len(beam) * len(vocab)` candidates\n",
    "3. ` ... ` select beam_size best for all candidates as new `beam`\n",
    "4. Select best hypothesis (-es?) from beam\n"
   ]
  },
  {
   "cell_type": "code",
   "execution_count": 1,
   "metadata": {},
   "outputs": [
    {
     "ename": "NameError",
     "evalue": "name 'BOS' is not defined",
     "output_type": "error",
     "traceback": [
      "\u001b[0;31m---------------------------------------------------------------------------\u001b[0m",
      "\u001b[0;31mNameError\u001b[0m                                 Traceback (most recent call last)",
      "\u001b[1;32m/workspaces/nlp_cook_dishes/notebooks/02_RNN.ipynb Cell 51\u001b[0m line \u001b[0;36m3\n\u001b[1;32m      <a href='vscode-notebook-cell://codespaces%2Bverbose-xylophone-v5vw4j5rp4phx5gr/workspaces/nlp_cook_dishes/notebooks/02_RNN.ipynb#Y100sdnNjb2RlLXJlbW90ZQ%3D%3D?line=0'>1</a>\u001b[0m \u001b[39mimport\u001b[39;00m \u001b[39mheapq\u001b[39;00m\n\u001b[0;32m----> <a href='vscode-notebook-cell://codespaces%2Bverbose-xylophone-v5vw4j5rp4phx5gr/workspaces/nlp_cook_dishes/notebooks/02_RNN.ipynb#Y100sdnNjb2RlLXJlbW90ZQ%3D%3D?line=2'>3</a>\u001b[0m \u001b[39mdef\u001b[39;00m \u001b[39mgenerate_beamsearch\u001b[39m(model, prefix\u001b[39m=\u001b[39mBOS, beam_size\u001b[39m=\u001b[39m\u001b[39m4\u001b[39m, length\u001b[39m=\u001b[39m\u001b[39m5\u001b[39m):\n\u001b[1;32m      <a href='vscode-notebook-cell://codespaces%2Bverbose-xylophone-v5vw4j5rp4phx5gr/workspaces/nlp_cook_dishes/notebooks/02_RNN.ipynb#Y100sdnNjb2RlLXJlbW90ZQ%3D%3D?line=3'>4</a>\u001b[0m \u001b[39m    \u001b[39m\u001b[39m\"\"\"\u001b[39;00m\n\u001b[1;32m      <a href='vscode-notebook-cell://codespaces%2Bverbose-xylophone-v5vw4j5rp4phx5gr/workspaces/nlp_cook_dishes/notebooks/02_RNN.ipynb#Y100sdnNjb2RlLXJlbW90ZQ%3D%3D?line=4'>5</a>\u001b[0m \u001b[39m    Generate a sequence with beam search.\u001b[39;00m\n\u001b[1;32m      <a href='vscode-notebook-cell://codespaces%2Bverbose-xylophone-v5vw4j5rp4phx5gr/workspaces/nlp_cook_dishes/notebooks/02_RNN.ipynb#Y100sdnNjb2RlLXJlbW90ZQ%3D%3D?line=5'>6</a>\u001b[0m \u001b[39m    \u001b[39;00m\n\u001b[0;32m   (...)\u001b[0m\n\u001b[1;32m     <a href='vscode-notebook-cell://codespaces%2Bverbose-xylophone-v5vw4j5rp4phx5gr/workspaces/nlp_cook_dishes/notebooks/02_RNN.ipynb#Y100sdnNjb2RlLXJlbW90ZQ%3D%3D?line=11'>12</a>\u001b[0m \u001b[39m    :returns: beam_size most likely sequence candidates as a list of tuples (score, sequence)\u001b[39;00m\n\u001b[1;32m     <a href='vscode-notebook-cell://codespaces%2Bverbose-xylophone-v5vw4j5rp4phx5gr/workspaces/nlp_cook_dishes/notebooks/02_RNN.ipynb#Y100sdnNjb2RlLXJlbW90ZQ%3D%3D?line=12'>13</a>\u001b[0m \u001b[39m    \"\"\"\u001b[39;00m\n\u001b[1;32m     <a href='vscode-notebook-cell://codespaces%2Bverbose-xylophone-v5vw4j5rp4phx5gr/workspaces/nlp_cook_dishes/notebooks/02_RNN.ipynb#Y100sdnNjb2RlLXJlbW90ZQ%3D%3D?line=13'>14</a>\u001b[0m     \u001b[39m# Initialize the beam with the prefix\u001b[39;00m\n",
      "\u001b[0;31mNameError\u001b[0m: name 'BOS' is not defined"
     ]
    }
   ],
   "source": [
    "import heapq\n",
    "\n",
    "def generate_beamsearch(model, prefix=BOS, beam_size=4, length=5):\n",
    "    \"\"\"\n",
    "    Generate a sequence with beam search.\n",
    "    \n",
    "    :param model: The language model\n",
    "    :param prefix: A string containing space-separated previous tokens\n",
    "    :param beam_size: The number of sequences to keep at each step\n",
    "    :param length: Generate sequences with at most this many tokens, NOT INCLUDING PREFIX\n",
    "    \n",
    "    :returns: beam_size most likely sequence candidates as a list of tuples (score, sequence)\n",
    "    \"\"\"\n",
    "    # Initialize the beam with the prefix\n",
    "    beam = [(0, prefix)]\n",
    "    \n",
    "    # Loop over the sequence length to generate\n",
    "    for _ in range(length):\n",
    "        candidates = []\n",
    "        \n",
    "        # Expand each sequence in the beam\n",
    "        for score, seq in beam:\n",
    "            # Convert the sequence to a tensor\n",
    "            input_ix = torch.as_tensor(to_matrix([seq]), dtype=torch.int64).to(device)\n",
    "            \n",
    "            # Get the log probabilities of the next tokens\n",
    "            with torch.no_grad():\n",
    "                logits = model(input_ix)[0, -1]  # Get the logits for the last time step\n",
    "                log_probs = torch.nn.functional.log_softmax(logits, dim=-1)\n",
    "            \n",
    "            # Get the top beam_size next tokens and their log probabilities\n",
    "            topk_probs, topk_indices = torch.topk(log_probs, beam_size)\n",
    "            \n",
    "            # Add these new sequences to the candidates list\n",
    "            for i in range(beam_size):\n",
    "                token = tokens[topk_indices[i]]  # Map the index back to the actual token\n",
    "                prob = topk_probs[i].item()\n",
    "                new_seq = seq + ' ' + token\n",
    "                candidates.append((score + prob, new_seq))\n",
    "        \n",
    "        # Select the top beam_size sequences\n",
    "        beam = heapq.nlargest(beam_size, candidates, key=lambda x: x[0])\n",
    "    \n",
    "    # Return the top sequences and their scores\n",
    "    return beam\n"
   ]
  },
  {
   "cell_type": "code",
   "execution_count": null,
   "metadata": {},
   "outputs": [],
   "source": [
    "generate_beamsearch(model, prefix=' deep ', beam_size=4)"
   ]
  },
  {
   "cell_type": "code",
   "execution_count": null,
   "metadata": {},
   "outputs": [],
   "source": [
    "# check it out: which beam size works best?\n",
    "# find at least 5 prefixes where beam_size=1 and 8 generates different sequences"
   ]
  },
  {
   "cell_type": "markdown",
   "metadata": {},
   "source": [
    "### Bonus quest II: Ultimate Language Model\n",
    "\n",
    "I learned the building blocks of neural language models, and now can build the ultimate monster:  \n",
    "* Make it char-level, word level or maybe use sub-word units like [bpe](https://github.com/rsennrich/subword-nmt);\n",
    "* Combine convolutions, recurrent cells, pre-trained embeddings and all the black magic deep learning has to offer;\n",
    "  * Use strides to get larger window size quickly. Here's a [scheme](https://storage.googleapis.com/deepmind-live-cms/documents/BlogPost-Fig2-Anim-160908-r01.gif) from google wavenet.\n",
    "* Train on large data. Like... really large. Try [1 Billion Words](http://www.statmt.org/lm-benchmark/1-billion-word-language-modeling-benchmark-r13output.tar.gz) benchmark;\n",
    "* Use training schedules to speed up training. Start with small length and increase over time; Take a look at [one cycle](https://medium.com/@nachiket.tanksale/finding-good-learning-rate-and-the-one-cycle-policy-7159fe1db5d6) for learning rate;"
   ]
  },
  {
   "cell_type": "markdown",
   "metadata": {},
   "source": []
  }
 ],
 "metadata": {
  "kernelspec": {
   "display_name": "Python 3 (ipykernel)",
   "language": "python",
   "name": "python3"
  },
  "language_info": {
   "codemirror_mode": {
    "name": "ipython",
    "version": 3
   },
   "file_extension": ".py",
   "mimetype": "text/x-python",
   "name": "python",
   "nbconvert_exporter": "python",
   "pygments_lexer": "ipython3",
   "version": "3.9.15"
  }
 },
 "nbformat": 4,
 "nbformat_minor": 2
}
