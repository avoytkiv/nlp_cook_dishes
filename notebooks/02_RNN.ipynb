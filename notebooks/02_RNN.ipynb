{
 "cells": [
  {
   "cell_type": "markdown",
   "metadata": {},
   "source": [
    "We've checked out statistical approaches to language models in the last notebook. Now let's go find out what deep learning has to offer.\n",
    "\n",
    "This time we build a language model that's character-level, not word level. "
   ]
  },
  {
   "cell_type": "code",
   "execution_count": 1,
   "metadata": {},
   "outputs": [],
   "source": [
    "import pandas as pd\n",
    "import numpy as np\n",
    "import ast"
   ]
  },
  {
   "cell_type": "code",
   "execution_count": 2,
   "metadata": {},
   "outputs": [
    {
     "name": "stdout",
     "output_type": "stream",
     "text": [
      "/home/vscode/venv/bin/python\n"
     ]
    }
   ],
   "source": [
    "!which python"
   ]
  },
  {
   "cell_type": "code",
   "execution_count": 3,
   "metadata": {},
   "outputs": [
    {
     "name": "stdout",
     "output_type": "stream",
     "text": [
      "/workspaces/nlp_cook_dishes/notebooks\n"
     ]
    }
   ],
   "source": [
    "!pwd"
   ]
  },
  {
   "cell_type": "markdown",
   "metadata": {},
   "source": [
    "Working on character level means that we don't need to deal with large vocabulary or missing words. Heck, we can even keep uppercase words in text! The downside, however, is that all our sequences just got a lot longer.\n",
    "\n",
    "However, we still need special tokens:\n",
    "* Begin Of Sequence  (__BOS__) - this token is at the start of each sequence. We use it so that we always have non-empty input to our neural network. $P(x_t) = P(x_1 | BOS)$\n",
    "* End Of Sequence (__EOS__) - you guess it... this token is at the end of each sequence. The catch is that it should __not__ occur anywhere else except at the very end. If our model produces this token, the sequence is over."
   ]
  },
  {
   "cell_type": "code",
   "execution_count": 5,
   "metadata": {},
   "outputs": [],
   "source": [
    "def clean_steps(data):\n",
    "    data_list = ast.literal_eval(data)\n",
    "    return ', '.join(data_list)\n",
    "\n",
    "\n",
    "BOS, EOS = ' ', '\\n'\n",
    "data = pd.read_csv('RAW_recipes.csv')\n",
    "data = data[['name', 'steps', 'description', 'ingredients']]\n",
    "data = data[~data['steps'].str.contains('please ignore')]\n",
    "data = data[~data['steps'].str.contains('none')]\n",
    "data['steps'] = data['steps'].apply(clean_steps)\n",
    "data['ingredients'] = data['ingredients'].apply(clean_steps)\n",
    "\n",
    "lines = data.apply(lambda row: str(row['name']) + \n",
    "                   '; ' + \n",
    "                   str(row['steps']).replace(\"\\n\", ' ') + \n",
    "                   '; ' + \n",
    "                   str(row['description']) + \n",
    "                   '; ' + \n",
    "                   str(row['ingredients'])[:512], axis=1) \\\n",
    "            .apply(lambda line: BOS + line.replace(EOS, ' ') + EOS) \\\n",
    "            .tolist()"
   ]
  },
  {
   "cell_type": "markdown",
   "metadata": {},
   "source": [
    "Our next step is __building char-level vocabulary__. Put simply, you need to assemble a list of all unique tokens in the dataset."
   ]
  },
  {
   "cell_type": "code",
   "execution_count": 6,
   "metadata": {},
   "outputs": [
    {
     "name": "stdout",
     "output_type": "stream",
     "text": [
      "n_tokens =  142\n"
     ]
    }
   ],
   "source": [
    "# Get all unique characters from lines (including capital letters and symbols)\n",
    "tokens = set(''.join(lines))\n",
    "tokens = sorted(tokens)\n",
    "n_tokens = len(tokens)\n",
    "print ('n_tokens = ',n_tokens)"
   ]
  },
  {
   "cell_type": "markdown",
   "metadata": {},
   "source": [
    "We can now assign each character with its index in tokens list. This way we can encode a string into a torch-friendly integer vector."
   ]
  },
  {
   "cell_type": "code",
   "execution_count": 7,
   "metadata": {},
   "outputs": [],
   "source": [
    "# dictionary of character -> its identifier (index in tokens list)\n",
    "token_to_id = {token: idx for idx, token in enumerate(tokens)}"
   ]
  },
  {
   "cell_type": "markdown",
   "metadata": {},
   "source": [
    "Our final step is to assemble several strings in a integer matrix with shape `[batch_size, text_length]`. \n",
    "\n",
    "The only problem is that each sequence has a different length. We can work around that by padding short sequences with extra `\"EOS\"` tokens or cropping long sequences. Here's how it works:"
   ]
  },
  {
   "cell_type": "code",
   "execution_count": 8,
   "metadata": {},
   "outputs": [],
   "source": [
    "def to_matrix(lines, max_len=None, pad=token_to_id[EOS], dtype=np.int64):\n",
    "    \"\"\"Casts a list of lines into torch-digestable matrix\"\"\"\n",
    "    max_len = max_len or max(map(len, lines))\n",
    "    lines_ix = np.full([len(lines), max_len], pad, dtype=dtype)\n",
    "    for i in range(len(lines)):\n",
    "        line_ix = list(map(token_to_id.get, lines[i][:max_len]))\n",
    "        lines_ix[i, :len(line_ix)] = line_ix\n",
    "    return lines_ix"
   ]
  },
  {
   "cell_type": "code",
   "execution_count": 9,
   "metadata": {},
   "outputs": [
    {
     "name": "stdout",
     "output_type": "stream",
     "text": [
      "[[ 5 44 45 46  1  1  1  1  1  1  1  1  1  1  1]\n",
      " [ 5 44 45 44 46 44 45 44  1  1  1  1  1  1  1]\n",
      " [ 5 44 45 46 22 23 24 25 26 27 28 29 30 21  1]]\n"
     ]
    }
   ],
   "source": [
    "#Example: cast 4 random names to a single matrix, pad with zeros where needed.\n",
    "dummy_lines = [\n",
    "    ' abc\\n',\n",
    "    ' abacaba\\n',\n",
    "    ' abc1234567890\\n',\n",
    "]\n",
    "print(to_matrix(dummy_lines))"
   ]
  },
  {
   "cell_type": "markdown",
   "metadata": {},
   "source": [
    "### Neural Language Model \n",
    "\n",
    "Just like for N-gram LMs, we want to estimate probability of text as a joint probability of tokens (symbols this time).\n",
    "\n",
    "$$P(X) = \\prod_t P(x_t \\mid x_0, \\dots, x_{t-1}).$$ \n",
    "\n",
    "Instead of counting all possible statistics, we want to train a neural network with parameters $\\theta$ that estimates the conditional probabilities:\n",
    "\n",
    "$$ P(x_t \\mid x_0, \\dots, x_{t-1}) \\approx p(x_t \\mid x_0, \\dots, x_{t-1}, \\theta) $$\n",
    "\n",
    "\n",
    "But before we optimize, we need to define our neural network. Let's start with a fixed-window (aka convolutional) architecture:\n",
    "\n",
    "<img src='https://raw.githubusercontent.com/yandexdataschool/nlp_course/master/resources/fixed_window_lm.jpg' width=400px>\n"
   ]
  },
  {
   "cell_type": "markdown",
   "metadata": {},
   "source": [
    "We can think of neural language models as neural classifiers. They classify prefix of a text into |V| classes, where the classes are vocabulary tokens.\n",
    "\n",
    "Intuitively, neural Language Models do two things:\n",
    "\n",
    "- **process context → model-specific**  \n",
    "The main idea here is to get a vector representation for the previous context. Using this representation, a model predicts a probability distribution for the next token. This part could be different depending on model architecture (e.g., RNN, CNN, whatever you want), but the main point is the same - to encode context.  \n",
    "\n",
    "- **generate a probability distribution for the next token → model-agnostic**  \n",
    "Once a context has been encoded, usually the probability distribution is generated in the same way"
   ]
  },
  {
   "cell_type": "markdown",
   "metadata": {},
   "source": [
    "\n",
    "When designing a CNN language model, keep in mind the following things:\n",
    "\n",
    "- prevent information flow from future tokens  \n",
    "To predict a token, a left-to-right LM has to use only previous tokens - make sure your CNN does not see anything but them! For example, you can shift tokens to the right by using padding.  \n",
    "\n",
    "- do not remove positional information  \n",
    "Differently from text classification, positional information is very important for language models. Therefore, do not use pooling (or be very careful in how you do it).  \n",
    " \n",
    "- if you stack many layers, do not forget about residual connections  \n",
    "If you stack many layers, it may difficult to train a very deep network well. To avoid this, use residual connections  \n",
    "\n",
    "1. Initialize the embedding layer to transform token indices into embeddings.\n",
    "2. Add zero padding on the left to prevent the model from seeing future tokens.\n",
    "3. Implement the convolutional layers, ensuring they only consider the current and previous words.\n",
    "4. Include residual connections if using multiple layers.\n",
    "5. Add a final layer to transform the output to the desired size.\n",
    "6. Implement the forward pass, ensuring the input and output dimensions are compatible with embeddings and convolutions."
   ]
  },
  {
   "cell_type": "code",
   "execution_count": 10,
   "metadata": {},
   "outputs": [],
   "source": [
    "import torch\n",
    "import torch.nn as nn\n",
    "import torch.nn.functional as F"
   ]
  },
  {
   "cell_type": "code",
   "execution_count": 14,
   "metadata": {},
   "outputs": [],
   "source": [
    "import torch\n",
    "import torch.nn as nn\n",
    "import torch.nn.functional as F\n",
    "\n",
    "class FixedWindowLanguageModel(nn.Module):\n",
    "    def __init__(self, n_tokens, emb_size=16, hid_size=64, filter_size=5, n_layers=3):\n",
    "        super().__init__()\n",
    "        \n",
    "        # Embedding layer\n",
    "        self.emb = nn.Embedding(n_tokens, emb_size)\n",
    "\n",
    "        # Convolution layers\n",
    "        self.convs = nn.ModuleList()\n",
    "        self.residual_layers = nn.ModuleList()  # Layers to adjust residual dimensions\n",
    "        input_channels = emb_size\n",
    "        for _ in range(n_layers):\n",
    "            padding_size = (filter_size - 1)  # Calculate padding size\n",
    "            self.convs.append(nn.Sequential(\n",
    "                nn.ZeroPad2d((padding_size, 0, 0, 0)),\n",
    "                nn.Conv1d(input_channels, hid_size, filter_size),\n",
    "                nn.ReLU(),\n",
    "                nn.BatchNorm1d(hid_size)\n",
    "            ))\n",
    "            self.residual_layers.append(nn.Linear(input_channels, hid_size))\n",
    "            input_channels = hid_size  # Set the next layer's input size to the current layer's output size\n",
    "\n",
    "        # Final layer to get logits\n",
    "        self.final_layer = nn.Linear(hid_size, n_tokens)\n",
    "\n",
    "    def forward(self, input_ix):\n",
    "        # Embedding\n",
    "        emb = self.emb(input_ix)  # shape: [batch_size, sequence_length, emb_size]\n",
    "        emb = emb.permute(0, 2, 1)  # shape: [batch_size, emb_size, sequence_length]\n",
    "\n",
    "        # Convolution layers with residual connections\n",
    "        conv_output = emb\n",
    "        for conv, res_layer in zip(self.convs, self.residual_layers):\n",
    "            # Adjust residual dimension and add\n",
    "            residual = res_layer(conv_output.permute(0, 2, 1)).permute(0, 2, 1)\n",
    "            conv_output = conv(conv_output) + residual\n",
    "\n",
    "        # Adjusting shape for final linear layer\n",
    "        conv_output = conv_output.permute(0, 2, 1)  # shape: [batch_size, sequence_length, hid_size]\n",
    "\n",
    "        # Final layer\n",
    "        logits = self.final_layer(conv_output)\n",
    "\n",
    "        return logits\n",
    "\n",
    "    def get_possible_next_tokens(self, prefix, temperature=1.0, max_len=100):\n",
    "        # Implement 'to_matrix' to convert the prefix to a tensor of token indices\n",
    "        # 'tokens' should be a list of all possible tokens\n",
    "        prefix_ix = torch.as_tensor(to_matrix([prefix]), dtype=torch.int64)\n",
    "        with torch.no_grad():\n",
    "            probs = F.softmax(self(prefix_ix)[0, -1], dim=-1).cpu().numpy()\n",
    "        return dict(zip(tokens, probs))\n"
   ]
  },
  {
   "cell_type": "code",
   "execution_count": 15,
   "metadata": {},
   "outputs": [
    {
     "name": "stdout",
     "output_type": "stream",
     "text": [
      "Weights: ('emb.weight', 'convs.0.1.weight', 'convs.0.1.bias', 'convs.0.3.weight', 'convs.0.3.bias', 'convs.1.1.weight', 'convs.1.1.bias', 'convs.1.3.weight', 'convs.1.3.bias', 'convs.2.1.weight', 'convs.2.1.bias', 'convs.2.3.weight', 'convs.2.3.bias', 'residual_layers.0.weight', 'residual_layers.0.bias', 'residual_layers.1.weight', 'residual_layers.1.bias', 'residual_layers.2.weight', 'residual_layers.2.bias', 'final_layer.weight', 'final_layer.bias')\n"
     ]
    }
   ],
   "source": [
    "dummy_model = FixedWindowLanguageModel(n_tokens=len(tokens))\n",
    "\n",
    "dummy_input_ix = torch.as_tensor(to_matrix(dummy_lines))\n",
    "dummy_logits = dummy_model(dummy_input_ix)\n",
    "\n",
    "print('Weights:', tuple(name for name, w in dummy_model.named_parameters()))"
   ]
  },
  {
   "cell_type": "markdown",
   "metadata": {},
   "source": [
    "The output from above. Let's break down what each part of this output represents:\n",
    "\n",
    "1. **Embedding Layer**:\n",
    "   - `'emb.weight'`: This is the weight matrix of the embedding layer. Each row corresponds to the embedding of a token in your vocabulary.\n",
    "\n",
    "2. **Convolutional Layers**:\n",
    "   - `'convs.X.1.weight'` and `'convs.X.1.bias'`: These are the weights and biases for the convolutional layers. `X` varies from 0 to 2, representing each convolutional layer in your `self.convs` ModuleList.\n",
    "   - `'convs.X.3.weight'` and `'convs.X.3.bias'`: These represent the weights and biases for the batch normalization layers following each convolutional layer.\n",
    "\n",
    "3. **Residual Layers**:\n",
    "   - `'residual_layers.X.weight'` and `'residual_layers.X.bias'`: These are the weights and biases for the linear layers in your `self.residual_layers` ModuleList, used to match the dimensions for the residual connections.\n",
    "\n",
    "4. **Final Linear Layer**:\n",
    "   - `'final_layer.weight'` and `'final_layer.bias'`: These are the weights and biases of the final linear layer that outputs the logits for each token in the vocabulary.\n",
    "\n",
    "This output shows that all the expected parameters for model's layers are correctly instantiated and registered within the model. Each layer's weights and biases are part of the model's parameters, which will be learned during training. "
   ]
  },
  {
   "cell_type": "markdown",
   "metadata": {},
   "source": []
  }
 ],
 "metadata": {
  "kernelspec": {
   "display_name": "venv",
   "language": "python",
   "name": "python3"
  },
  "language_info": {
   "codemirror_mode": {
    "name": "ipython",
    "version": 3
   },
   "file_extension": ".py",
   "mimetype": "text/x-python",
   "name": "python",
   "nbconvert_exporter": "python",
   "pygments_lexer": "ipython3",
   "version": "3.11.6"
  }
 },
 "nbformat": 4,
 "nbformat_minor": 2
}
